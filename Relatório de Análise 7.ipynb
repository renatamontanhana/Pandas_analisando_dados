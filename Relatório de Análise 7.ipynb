{
 "cells": [
  {
   "cell_type": "markdown",
   "metadata": {},
   "source": [
    "# Relatório de Análise 7"
   ]
  },
  {
   "cell_type": "markdown",
   "metadata": {},
   "source": [
    "## Criando agrupamentos"
   ]
  },
  {
   "cell_type": "code",
   "execution_count": 55,
   "metadata": {},
   "outputs": [],
   "source": [
    "import pandas as pd"
   ]
  },
  {
   "cell_type": "code",
   "execution_count": 56,
   "metadata": {},
   "outputs": [],
   "source": [
    "dados = pd.read_csv('dados/aluguel_residencial.csv', sep = ';')"
   ]
  },
  {
   "cell_type": "code",
   "execution_count": 57,
   "metadata": {},
   "outputs": [
    {
     "data": {
      "text/html": [
       "<div>\n",
       "<style scoped>\n",
       "    .dataframe tbody tr th:only-of-type {\n",
       "        vertical-align: middle;\n",
       "    }\n",
       "\n",
       "    .dataframe tbody tr th {\n",
       "        vertical-align: top;\n",
       "    }\n",
       "\n",
       "    .dataframe thead th {\n",
       "        text-align: right;\n",
       "    }\n",
       "</style>\n",
       "<table border=\"1\" class=\"dataframe\">\n",
       "  <thead>\n",
       "    <tr style=\"text-align: right;\">\n",
       "      <th></th>\n",
       "      <th>Tipo</th>\n",
       "      <th>Bairro</th>\n",
       "      <th>Quartos</th>\n",
       "      <th>Vagas</th>\n",
       "      <th>Suites</th>\n",
       "      <th>Area</th>\n",
       "      <th>Valor</th>\n",
       "      <th>Condominio</th>\n",
       "      <th>IPTU</th>\n",
       "      <th>Valor m2</th>\n",
       "      <th>Tipo Agregado</th>\n",
       "      <th>Tipo agregado</th>\n",
       "    </tr>\n",
       "  </thead>\n",
       "  <tbody>\n",
       "    <tr>\n",
       "      <td>0</td>\n",
       "      <td>Apartamento</td>\n",
       "      <td>Centro</td>\n",
       "      <td>1</td>\n",
       "      <td>0</td>\n",
       "      <td>0</td>\n",
       "      <td>15</td>\n",
       "      <td>800.0</td>\n",
       "      <td>390.0</td>\n",
       "      <td>20.0</td>\n",
       "      <td>53.33</td>\n",
       "      <td>Apartamento</td>\n",
       "      <td>Apartamento</td>\n",
       "    </tr>\n",
       "    <tr>\n",
       "      <td>1</td>\n",
       "      <td>Apartamento</td>\n",
       "      <td>Higienópolis</td>\n",
       "      <td>1</td>\n",
       "      <td>0</td>\n",
       "      <td>0</td>\n",
       "      <td>48</td>\n",
       "      <td>800.0</td>\n",
       "      <td>230.0</td>\n",
       "      <td>0.0</td>\n",
       "      <td>16.67</td>\n",
       "      <td>Apartamento</td>\n",
       "      <td>Apartamento</td>\n",
       "    </tr>\n",
       "    <tr>\n",
       "      <td>2</td>\n",
       "      <td>Apartamento</td>\n",
       "      <td>Cachambi</td>\n",
       "      <td>2</td>\n",
       "      <td>0</td>\n",
       "      <td>0</td>\n",
       "      <td>50</td>\n",
       "      <td>1300.0</td>\n",
       "      <td>301.0</td>\n",
       "      <td>17.0</td>\n",
       "      <td>26.00</td>\n",
       "      <td>Apartamento</td>\n",
       "      <td>Apartamento</td>\n",
       "    </tr>\n",
       "    <tr>\n",
       "      <td>3</td>\n",
       "      <td>Apartamento</td>\n",
       "      <td>Grajaú</td>\n",
       "      <td>2</td>\n",
       "      <td>1</td>\n",
       "      <td>0</td>\n",
       "      <td>70</td>\n",
       "      <td>1500.0</td>\n",
       "      <td>642.0</td>\n",
       "      <td>74.0</td>\n",
       "      <td>21.43</td>\n",
       "      <td>Apartamento</td>\n",
       "      <td>Apartamento</td>\n",
       "    </tr>\n",
       "    <tr>\n",
       "      <td>4</td>\n",
       "      <td>Apartamento</td>\n",
       "      <td>Lins de Vasconcelos</td>\n",
       "      <td>3</td>\n",
       "      <td>1</td>\n",
       "      <td>1</td>\n",
       "      <td>90</td>\n",
       "      <td>1500.0</td>\n",
       "      <td>455.0</td>\n",
       "      <td>14.0</td>\n",
       "      <td>16.67</td>\n",
       "      <td>Apartamento</td>\n",
       "      <td>Apartamento</td>\n",
       "    </tr>\n",
       "    <tr>\n",
       "      <td>5</td>\n",
       "      <td>Apartamento</td>\n",
       "      <td>Copacabana</td>\n",
       "      <td>1</td>\n",
       "      <td>0</td>\n",
       "      <td>1</td>\n",
       "      <td>40</td>\n",
       "      <td>2000.0</td>\n",
       "      <td>561.0</td>\n",
       "      <td>50.0</td>\n",
       "      <td>50.00</td>\n",
       "      <td>Apartamento</td>\n",
       "      <td>Apartamento</td>\n",
       "    </tr>\n",
       "    <tr>\n",
       "      <td>6</td>\n",
       "      <td>Apartamento</td>\n",
       "      <td>Freguesia (Jacarepaguá)</td>\n",
       "      <td>3</td>\n",
       "      <td>0</td>\n",
       "      <td>0</td>\n",
       "      <td>54</td>\n",
       "      <td>950.0</td>\n",
       "      <td>300.0</td>\n",
       "      <td>28.0</td>\n",
       "      <td>17.59</td>\n",
       "      <td>Apartamento</td>\n",
       "      <td>Apartamento</td>\n",
       "    </tr>\n",
       "    <tr>\n",
       "      <td>7</td>\n",
       "      <td>Apartamento</td>\n",
       "      <td>Barra da Tijuca</td>\n",
       "      <td>2</td>\n",
       "      <td>1</td>\n",
       "      <td>1</td>\n",
       "      <td>67</td>\n",
       "      <td>1700.0</td>\n",
       "      <td>589.0</td>\n",
       "      <td>147.0</td>\n",
       "      <td>25.37</td>\n",
       "      <td>Apartamento</td>\n",
       "      <td>Apartamento</td>\n",
       "    </tr>\n",
       "    <tr>\n",
       "      <td>8</td>\n",
       "      <td>Apartamento</td>\n",
       "      <td>Tijuca</td>\n",
       "      <td>2</td>\n",
       "      <td>1</td>\n",
       "      <td>0</td>\n",
       "      <td>110</td>\n",
       "      <td>1900.0</td>\n",
       "      <td>700.0</td>\n",
       "      <td>138.0</td>\n",
       "      <td>17.27</td>\n",
       "      <td>Apartamento</td>\n",
       "      <td>Apartamento</td>\n",
       "    </tr>\n",
       "    <tr>\n",
       "      <td>9</td>\n",
       "      <td>Apartamento</td>\n",
       "      <td>Olaria</td>\n",
       "      <td>3</td>\n",
       "      <td>1</td>\n",
       "      <td>0</td>\n",
       "      <td>68</td>\n",
       "      <td>1000.0</td>\n",
       "      <td>670.0</td>\n",
       "      <td>0.0</td>\n",
       "      <td>14.71</td>\n",
       "      <td>Apartamento</td>\n",
       "      <td>Apartamento</td>\n",
       "    </tr>\n",
       "  </tbody>\n",
       "</table>\n",
       "</div>"
      ],
      "text/plain": [
       "          Tipo                   Bairro  Quartos  Vagas  Suites  Area   Valor  \\\n",
       "0  Apartamento                   Centro        1      0       0    15   800.0   \n",
       "1  Apartamento             Higienópolis        1      0       0    48   800.0   \n",
       "2  Apartamento                 Cachambi        2      0       0    50  1300.0   \n",
       "3  Apartamento                   Grajaú        2      1       0    70  1500.0   \n",
       "4  Apartamento      Lins de Vasconcelos        3      1       1    90  1500.0   \n",
       "5  Apartamento               Copacabana        1      0       1    40  2000.0   \n",
       "6  Apartamento  Freguesia (Jacarepaguá)        3      0       0    54   950.0   \n",
       "7  Apartamento          Barra da Tijuca        2      1       1    67  1700.0   \n",
       "8  Apartamento                   Tijuca        2      1       0   110  1900.0   \n",
       "9  Apartamento                   Olaria        3      1       0    68  1000.0   \n",
       "\n",
       "   Condominio   IPTU  Valor m2 Tipo Agregado Tipo agregado  \n",
       "0       390.0   20.0     53.33   Apartamento   Apartamento  \n",
       "1       230.0    0.0     16.67   Apartamento   Apartamento  \n",
       "2       301.0   17.0     26.00   Apartamento   Apartamento  \n",
       "3       642.0   74.0     21.43   Apartamento   Apartamento  \n",
       "4       455.0   14.0     16.67   Apartamento   Apartamento  \n",
       "5       561.0   50.0     50.00   Apartamento   Apartamento  \n",
       "6       300.0   28.0     17.59   Apartamento   Apartamento  \n",
       "7       589.0  147.0     25.37   Apartamento   Apartamento  \n",
       "8       700.0  138.0     17.27   Apartamento   Apartamento  \n",
       "9       670.0    0.0     14.71   Apartamento   Apartamento  "
      ]
     },
     "execution_count": 57,
     "metadata": {},
     "output_type": "execute_result"
    }
   ],
   "source": [
    "dados.head(10)"
   ]
  },
  {
   "cell_type": "code",
   "execution_count": 58,
   "metadata": {},
   "outputs": [
    {
     "data": {
      "text/plain": [
       "3465.402299430185"
      ]
     },
     "execution_count": 58,
     "metadata": {},
     "output_type": "execute_result"
    }
   ],
   "source": [
    "dados['Valor'].mean()"
   ]
  },
  {
   "cell_type": "code",
   "execution_count": 59,
   "metadata": {},
   "outputs": [],
   "source": [
    "bairros = ['Barra da Tijuca', 'Copacabana', 'Ipanema', 'Leblon', 'Botafogo', 'Flamengo', 'Tijuca']\n",
    "selecao = dados['Bairro'].isin(bairros)\n",
    "dados = dados[selecao]# "
   ]
  },
  {
   "cell_type": "code",
   "execution_count": 60,
   "metadata": {},
   "outputs": [
    {
     "data": {
      "text/plain": [
       "5           Copacabana\n",
       "7      Barra da Tijuca\n",
       "8               Tijuca\n",
       "11             Ipanema\n",
       "14            Botafogo\n",
       "17              Leblon\n",
       "105           Flamengo\n",
       "Name: Bairro, dtype: object"
      ]
     },
     "execution_count": 60,
     "metadata": {},
     "output_type": "execute_result"
    }
   ],
   "source": [
    "dados['Bairro'].drop_duplicates()"
   ]
  },
  {
   "cell_type": "code",
   "execution_count": 61,
   "metadata": {},
   "outputs": [],
   "source": [
    "grupo_bairro = dados.groupby('Bairro')"
   ]
  },
  {
   "cell_type": "code",
   "execution_count": 62,
   "metadata": {},
   "outputs": [
    {
     "data": {
      "text/plain": [
       "pandas.core.groupby.generic.DataFrameGroupBy"
      ]
     },
     "execution_count": 62,
     "metadata": {},
     "output_type": "execute_result"
    }
   ],
   "source": [
    "type(grupo_bairro)"
   ]
  },
  {
   "cell_type": "code",
   "execution_count": 63,
   "metadata": {},
   "outputs": [
    {
     "data": {
      "text/plain": [
       "{'Barra da Tijuca': Int64Index([    7,    13,    19,    21,    24,    31,    44,    47,    51,\n",
       "                56,\n",
       "             ...\n",
       "             18776, 18777, 18778, 18779, 18780, 18781, 18783, 18784, 19392,\n",
       "             19795],\n",
       "            dtype='int64', length=3383),\n",
       " 'Botafogo': Int64Index([   14,    35,    66,    67,    85,    91,    96,   102,   147,\n",
       "               151,\n",
       "             ...\n",
       "             19739, 19743, 19768, 19796, 19800, 19803, 19809, 19812, 19816,\n",
       "             19817],\n",
       "            dtype='int64', length=849),\n",
       " 'Copacabana': Int64Index([    5,    15,    20,    69,    78,    83,    97,   107,   108,\n",
       "               109,\n",
       "             ...\n",
       "             19777, 19784, 19787, 19788, 19794, 19797, 19805, 19823, 19825,\n",
       "             19829],\n",
       "            dtype='int64', length=2445),\n",
       " 'Flamengo': Int64Index([  105,   165,   215,   239,   256,   264,   268,   276,   319,\n",
       "               323,\n",
       "             ...\n",
       "             19774, 19778, 19789, 19793, 19798, 19813, 19814, 19815, 19821,\n",
       "             19827],\n",
       "            dtype='int64', length=654),\n",
       " 'Ipanema': Int64Index([   11,    28,    29,    32,    39,    40,    55,    64,   121,\n",
       "               133,\n",
       "             ...\n",
       "             19536, 19561, 19592, 19603, 19630, 19652, 19654, 19755, 19765,\n",
       "             19791],\n",
       "            dtype='int64', length=1227),\n",
       " 'Leblon': Int64Index([   17,    43,    68,    73,   101,   125,   128,   166,   261,\n",
       "               262,\n",
       "             ...\n",
       "             19282, 19337, 19437, 19506, 19562, 19677, 19732, 19776, 19810,\n",
       "             19824],\n",
       "            dtype='int64', length=890),\n",
       " 'Tijuca': Int64Index([    8,    10,    12,    61,    62,    95,   110,   113,   120,\n",
       "               123,\n",
       "             ...\n",
       "             19445, 19460, 19525, 19583, 19605, 19662, 19680, 19695, 19710,\n",
       "             19723],\n",
       "            dtype='int64', length=1097)}"
      ]
     },
     "execution_count": 63,
     "metadata": {},
     "output_type": "execute_result"
    }
   ],
   "source": [
    "grupo_bairro.groups"
   ]
  },
  {
   "cell_type": "code",
   "execution_count": 64,
   "metadata": {},
   "outputs": [
    {
     "name": "stdout",
     "output_type": "stream",
     "text": [
      "Barra da Tijuca\n",
      "Botafogo\n",
      "Copacabana\n",
      "Flamengo\n",
      "Ipanema\n",
      "Leblon\n",
      "Tijuca\n"
     ]
    }
   ],
   "source": [
    "for bairro, dados in grupo_bairro:\n",
    "    print(bairro)"
   ]
  },
  {
   "cell_type": "code",
   "execution_count": 65,
   "metadata": {},
   "outputs": [
    {
     "name": "stdout",
     "output_type": "stream",
     "text": [
      "Barra da Tijuca -> 5500.497783032811\n",
      "Botafogo -> 3375.4605418138985\n",
      "Copacabana -> 3351.519427402863\n",
      "Flamengo -> 3220.119266055046\n",
      "Ipanema -> 5451.549307253464\n",
      "Leblon -> 5661.45393258427\n",
      "Tijuca -> 1999.9380127620784\n"
     ]
    }
   ],
   "source": [
    "for bairro, data in grupo_bairro:\n",
    "    print('{} -> {}'.format(bairro, data.Valor.mean()))"
   ]
  },
  {
   "cell_type": "code",
   "execution_count": 66,
   "metadata": {},
   "outputs": [
    {
     "data": {
      "text/html": [
       "<div>\n",
       "<style scoped>\n",
       "    .dataframe tbody tr th:only-of-type {\n",
       "        vertical-align: middle;\n",
       "    }\n",
       "\n",
       "    .dataframe tbody tr th {\n",
       "        vertical-align: top;\n",
       "    }\n",
       "\n",
       "    .dataframe thead th {\n",
       "        text-align: right;\n",
       "    }\n",
       "</style>\n",
       "<table border=\"1\" class=\"dataframe\">\n",
       "  <thead>\n",
       "    <tr style=\"text-align: right;\">\n",
       "      <th></th>\n",
       "      <th>Valor</th>\n",
       "      <th>Condominio</th>\n",
       "    </tr>\n",
       "    <tr>\n",
       "      <th>Bairro</th>\n",
       "      <th></th>\n",
       "      <th></th>\n",
       "    </tr>\n",
       "  </thead>\n",
       "  <tbody>\n",
       "    <tr>\n",
       "      <td>Barra da Tijuca</td>\n",
       "      <td>5500.50</td>\n",
       "      <td>3588.23</td>\n",
       "    </tr>\n",
       "    <tr>\n",
       "      <td>Botafogo</td>\n",
       "      <td>3375.46</td>\n",
       "      <td>939.98</td>\n",
       "    </tr>\n",
       "    <tr>\n",
       "      <td>Copacabana</td>\n",
       "      <td>3351.52</td>\n",
       "      <td>1039.22</td>\n",
       "    </tr>\n",
       "    <tr>\n",
       "      <td>Flamengo</td>\n",
       "      <td>3220.12</td>\n",
       "      <td>933.88</td>\n",
       "    </tr>\n",
       "    <tr>\n",
       "      <td>Ipanema</td>\n",
       "      <td>5451.55</td>\n",
       "      <td>1674.58</td>\n",
       "    </tr>\n",
       "    <tr>\n",
       "      <td>Leblon</td>\n",
       "      <td>5661.45</td>\n",
       "      <td>1617.80</td>\n",
       "    </tr>\n",
       "    <tr>\n",
       "      <td>Tijuca</td>\n",
       "      <td>1999.94</td>\n",
       "      <td>713.43</td>\n",
       "    </tr>\n",
       "  </tbody>\n",
       "</table>\n",
       "</div>"
      ],
      "text/plain": [
       "                   Valor  Condominio\n",
       "Bairro                              \n",
       "Barra da Tijuca  5500.50     3588.23\n",
       "Botafogo         3375.46      939.98\n",
       "Copacabana       3351.52     1039.22\n",
       "Flamengo         3220.12      933.88\n",
       "Ipanema          5451.55     1674.58\n",
       "Leblon           5661.45     1617.80\n",
       "Tijuca           1999.94      713.43"
      ]
     },
     "execution_count": 66,
     "metadata": {},
     "output_type": "execute_result"
    }
   ],
   "source": [
    "grupo_bairro[['Valor', 'Condominio']].mean().round(2)"
   ]
  },
  {
   "cell_type": "code",
   "execution_count": 67,
   "metadata": {},
   "outputs": [
    {
     "data": {
      "text/html": [
       "<div>\n",
       "<style scoped>\n",
       "    .dataframe tbody tr th:only-of-type {\n",
       "        vertical-align: middle;\n",
       "    }\n",
       "\n",
       "    .dataframe tbody tr th {\n",
       "        vertical-align: top;\n",
       "    }\n",
       "\n",
       "    .dataframe thead th {\n",
       "        text-align: right;\n",
       "    }\n",
       "</style>\n",
       "<table border=\"1\" class=\"dataframe\">\n",
       "  <thead>\n",
       "    <tr style=\"text-align: right;\">\n",
       "      <th></th>\n",
       "      <th>count</th>\n",
       "      <th>mean</th>\n",
       "      <th>std</th>\n",
       "      <th>min</th>\n",
       "      <th>25%</th>\n",
       "      <th>50%</th>\n",
       "      <th>75%</th>\n",
       "      <th>max</th>\n",
       "    </tr>\n",
       "    <tr>\n",
       "      <th>Bairro</th>\n",
       "      <th></th>\n",
       "      <th></th>\n",
       "      <th></th>\n",
       "      <th></th>\n",
       "      <th></th>\n",
       "      <th></th>\n",
       "      <th></th>\n",
       "      <th></th>\n",
       "    </tr>\n",
       "  </thead>\n",
       "  <tbody>\n",
       "    <tr>\n",
       "      <td>Barra da Tijuca</td>\n",
       "      <td>3383.0</td>\n",
       "      <td>5500.50</td>\n",
       "      <td>5123.02</td>\n",
       "      <td>800.0</td>\n",
       "      <td>2400.0</td>\n",
       "      <td>3700.0</td>\n",
       "      <td>6700.0</td>\n",
       "      <td>32000.0</td>\n",
       "    </tr>\n",
       "    <tr>\n",
       "      <td>Botafogo</td>\n",
       "      <td>849.0</td>\n",
       "      <td>3375.46</td>\n",
       "      <td>2015.90</td>\n",
       "      <td>700.0</td>\n",
       "      <td>2200.0</td>\n",
       "      <td>3000.0</td>\n",
       "      <td>4250.0</td>\n",
       "      <td>22000.0</td>\n",
       "    </tr>\n",
       "    <tr>\n",
       "      <td>Copacabana</td>\n",
       "      <td>2445.0</td>\n",
       "      <td>3351.52</td>\n",
       "      <td>1904.58</td>\n",
       "      <td>100.0</td>\n",
       "      <td>1915.0</td>\n",
       "      <td>2900.0</td>\n",
       "      <td>4200.0</td>\n",
       "      <td>9900.0</td>\n",
       "    </tr>\n",
       "    <tr>\n",
       "      <td>Flamengo</td>\n",
       "      <td>654.0</td>\n",
       "      <td>3220.12</td>\n",
       "      <td>1958.30</td>\n",
       "      <td>800.0</td>\n",
       "      <td>1800.0</td>\n",
       "      <td>2700.0</td>\n",
       "      <td>4000.0</td>\n",
       "      <td>9500.0</td>\n",
       "    </tr>\n",
       "    <tr>\n",
       "      <td>Ipanema</td>\n",
       "      <td>1227.0</td>\n",
       "      <td>5451.55</td>\n",
       "      <td>2093.76</td>\n",
       "      <td>1200.0</td>\n",
       "      <td>3759.0</td>\n",
       "      <td>5500.0</td>\n",
       "      <td>7000.0</td>\n",
       "      <td>9900.0</td>\n",
       "    </tr>\n",
       "    <tr>\n",
       "      <td>Leblon</td>\n",
       "      <td>890.0</td>\n",
       "      <td>5661.45</td>\n",
       "      <td>2746.71</td>\n",
       "      <td>100.0</td>\n",
       "      <td>3900.0</td>\n",
       "      <td>5000.0</td>\n",
       "      <td>7000.0</td>\n",
       "      <td>30000.0</td>\n",
       "    </tr>\n",
       "    <tr>\n",
       "      <td>Tijuca</td>\n",
       "      <td>1097.0</td>\n",
       "      <td>1999.94</td>\n",
       "      <td>1039.67</td>\n",
       "      <td>750.0</td>\n",
       "      <td>1500.0</td>\n",
       "      <td>1800.0</td>\n",
       "      <td>2300.0</td>\n",
       "      <td>19000.0</td>\n",
       "    </tr>\n",
       "  </tbody>\n",
       "</table>\n",
       "</div>"
      ],
      "text/plain": [
       "                  count     mean      std     min     25%     50%     75%  \\\n",
       "Bairro                                                                      \n",
       "Barra da Tijuca  3383.0  5500.50  5123.02   800.0  2400.0  3700.0  6700.0   \n",
       "Botafogo          849.0  3375.46  2015.90   700.0  2200.0  3000.0  4250.0   \n",
       "Copacabana       2445.0  3351.52  1904.58   100.0  1915.0  2900.0  4200.0   \n",
       "Flamengo          654.0  3220.12  1958.30   800.0  1800.0  2700.0  4000.0   \n",
       "Ipanema          1227.0  5451.55  2093.76  1200.0  3759.0  5500.0  7000.0   \n",
       "Leblon            890.0  5661.45  2746.71   100.0  3900.0  5000.0  7000.0   \n",
       "Tijuca           1097.0  1999.94  1039.67   750.0  1500.0  1800.0  2300.0   \n",
       "\n",
       "                     max  \n",
       "Bairro                    \n",
       "Barra da Tijuca  32000.0  \n",
       "Botafogo         22000.0  \n",
       "Copacabana        9900.0  \n",
       "Flamengo          9500.0  \n",
       "Ipanema           9900.0  \n",
       "Leblon           30000.0  \n",
       "Tijuca           19000.0  "
      ]
     },
     "execution_count": 67,
     "metadata": {},
     "output_type": "execute_result"
    }
   ],
   "source": [
    "grupo_bairro['Valor'].describe().round(2)"
   ]
  },
  {
   "cell_type": "code",
   "execution_count": 68,
   "metadata": {},
   "outputs": [
    {
     "data": {
      "text/html": [
       "<div>\n",
       "<style scoped>\n",
       "    .dataframe tbody tr th:only-of-type {\n",
       "        vertical-align: middle;\n",
       "    }\n",
       "\n",
       "    .dataframe tbody tr th {\n",
       "        vertical-align: top;\n",
       "    }\n",
       "\n",
       "    .dataframe thead th {\n",
       "        text-align: right;\n",
       "    }\n",
       "</style>\n",
       "<table border=\"1\" class=\"dataframe\">\n",
       "  <thead>\n",
       "    <tr style=\"text-align: right;\">\n",
       "      <th></th>\n",
       "      <th>Mínimo</th>\n",
       "      <th>Máximo</th>\n",
       "      <th>Soma</th>\n",
       "    </tr>\n",
       "    <tr>\n",
       "      <th>Bairro</th>\n",
       "      <th></th>\n",
       "      <th></th>\n",
       "      <th></th>\n",
       "    </tr>\n",
       "  </thead>\n",
       "  <tbody>\n",
       "    <tr>\n",
       "      <td>Barra da Tijuca</td>\n",
       "      <td>800.0</td>\n",
       "      <td>32000.0</td>\n",
       "      <td>18608184.0</td>\n",
       "    </tr>\n",
       "    <tr>\n",
       "      <td>Botafogo</td>\n",
       "      <td>700.0</td>\n",
       "      <td>22000.0</td>\n",
       "      <td>2865766.0</td>\n",
       "    </tr>\n",
       "    <tr>\n",
       "      <td>Copacabana</td>\n",
       "      <td>100.0</td>\n",
       "      <td>9900.0</td>\n",
       "      <td>8194465.0</td>\n",
       "    </tr>\n",
       "    <tr>\n",
       "      <td>Flamengo</td>\n",
       "      <td>800.0</td>\n",
       "      <td>9500.0</td>\n",
       "      <td>2105958.0</td>\n",
       "    </tr>\n",
       "    <tr>\n",
       "      <td>Ipanema</td>\n",
       "      <td>1200.0</td>\n",
       "      <td>9900.0</td>\n",
       "      <td>6689051.0</td>\n",
       "    </tr>\n",
       "    <tr>\n",
       "      <td>Leblon</td>\n",
       "      <td>100.0</td>\n",
       "      <td>30000.0</td>\n",
       "      <td>5038694.0</td>\n",
       "    </tr>\n",
       "    <tr>\n",
       "      <td>Tijuca</td>\n",
       "      <td>750.0</td>\n",
       "      <td>19000.0</td>\n",
       "      <td>2193932.0</td>\n",
       "    </tr>\n",
       "  </tbody>\n",
       "</table>\n",
       "</div>"
      ],
      "text/plain": [
       "                 Mínimo   Máximo        Soma\n",
       "Bairro                                      \n",
       "Barra da Tijuca   800.0  32000.0  18608184.0\n",
       "Botafogo          700.0  22000.0   2865766.0\n",
       "Copacabana        100.0   9900.0   8194465.0\n",
       "Flamengo          800.0   9500.0   2105958.0\n",
       "Ipanema          1200.0   9900.0   6689051.0\n",
       "Leblon            100.0  30000.0   5038694.0\n",
       "Tijuca            750.0  19000.0   2193932.0"
      ]
     },
     "execution_count": 68,
     "metadata": {},
     "output_type": "execute_result"
    }
   ],
   "source": [
    "grupo_bairro['Valor'].aggregate(['min', 'max', 'sum']).rename(columns = {'min': 'Mínimo', 'max': 'Máximo', 'sum': 'Soma'})"
   ]
  },
  {
   "cell_type": "code",
   "execution_count": 69,
   "metadata": {},
   "outputs": [],
   "source": [
    "%matplotlib inline\n",
    "import matplotlib.pyplot as plt\n",
    "plt.rc('figure', figsize = (20,10))"
   ]
  },
  {
   "cell_type": "code",
   "execution_count": 70,
   "metadata": {},
   "outputs": [
    {
     "data": {
      "text/plain": [
       "Text(0.5, 1.0, 'Valor médio do Aluguel por Bairro')"
      ]
     },
     "execution_count": 70,
     "metadata": {},
     "output_type": "execute_result"
    },
    {
     "data": {
      "image/png": "[encoded data removed]",
      "text/plain": [
       "<Figure size 1440x720 with 1 Axes>"
      ]
     },
     "metadata": {
      "needs_background": "light"
     },
     "output_type": "display_data"
    }
   ],
   "source": [
    "fig = grupo_bairro['Valor'].mean().plot.bar(color = 'Blue')\n",
    "fig.set_ylabel('Valor do Aluguel')\n",
    "fig.set_title('Valor médio do Aluguel por Bairro', {'fontsize': 22})"
   ]
  },
  {
   "cell_type": "code",
   "execution_count": 71,
   "metadata": {},
   "outputs": [
    {
     "data": {
      "text/plain": [
       "Text(0.5, 1.0, 'Valor médio do Aluguel por Bairro')"
      ]
     },
     "execution_count": 71,
     "metadata": {},
     "output_type": "execute_result"
    },
    {
     "data": {
      "image/png": "[encoded data removed]",
      "text/plain": [
       "<Figure size 1440x720 with 1 Axes>"
      ]
     },
     "metadata": {
      "needs_background": "light"
     },
     "output_type": "display_data"
    }
   ],
   "source": [
    "fig = grupo_bairro['Valor'].max().plot.bar(color = 'Blue')\n",
    "fig.set_ylabel('Valor do Aluguel')\n",
    "fig.set_title('Valor médio do Aluguel por Bairro', {'fontsize': 22})"
   ]
  },
  {
   "cell_type": "code",
   "execution_count": null,
   "metadata": {},
   "outputs": [],
   "source": []
  }
 ],
 "metadata": {
  "kernelspec": {
   "display_name": "Python 3",
   "language": "python",
   "name": "python3"
  },
  "language_info": {
   "codemirror_mode": {
    "name": "ipython",
    "version": 3
   },
   "file_extension": ".py",
   "mimetype": "text/x-python",
   "name": "python",
   "nbconvert_exporter": "python",
   "pygments_lexer": "ipython3",
   "version": "3.7.4"
  }
 },
 "nbformat": 4,
 "nbformat_minor": 2
}
